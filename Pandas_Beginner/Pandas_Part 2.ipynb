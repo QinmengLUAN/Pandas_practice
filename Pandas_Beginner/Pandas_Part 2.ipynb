{
 "cells": [
  {
   "cell_type": "code",
   "execution_count": 90,
   "metadata": {},
   "outputs": [],
   "source": [
    "import pandas as pd\n",
    "import matplotlib.pyplot as plt\n",
    "data = pd.read_csv(\"./examples/A1_mosquito_data.csv\")\n",
    "data2 = pd.read_csv(\"./examples/A2_mosquito_data.csv\")"
   ]
  },
  {
   "cell_type": "code",
   "execution_count": 91,
   "metadata": {},
   "outputs": [
    {
     "data": {
      "text/plain": [
       "array([[<matplotlib.axes._subplots.AxesSubplot object at 0x1c1ffce3d0>,\n",
       "        <matplotlib.axes._subplots.AxesSubplot object at 0x1c1f1af350>],\n",
       "       [<matplotlib.axes._subplots.AxesSubplot object at 0x1c1f1f5550>,\n",
       "        <matplotlib.axes._subplots.AxesSubplot object at 0x1c1f4dbad0>]],\n",
       "      dtype=object)"
      ]
     },
     "execution_count": 91,
     "metadata": {},
     "output_type": "execute_result"
    },
    {
     "data": {
      "image/png": "[encoded data removed]",
      "text/plain": [
       "<Figure size 432x288 with 4 Axes>"
      ]
     },
     "metadata": {
      "needs_background": "light"
     },
     "output_type": "display_data"
    }
   ],
   "source": [
    "data.hist()"
   ]
  },
  {
   "cell_type": "code",
   "execution_count": 92,
   "metadata": {},
   "outputs": [],
   "source": [
    "%matplotlib inline"
   ]
  },
  {
   "cell_type": "code",
   "execution_count": 93,
   "metadata": {},
   "outputs": [
    {
     "data": {
      "text/plain": [
       "array([[<matplotlib.axes._subplots.AxesSubplot object at 0x1c1f4bcf90>,\n",
       "        <matplotlib.axes._subplots.AxesSubplot object at 0x1c1f4c9050>,\n",
       "        <matplotlib.axes._subplots.AxesSubplot object at 0x1c1f961f90>],\n",
       "       [<matplotlib.axes._subplots.AxesSubplot object at 0x1c1ff6ac90>,\n",
       "        <matplotlib.axes._subplots.AxesSubplot object at 0x1c20046fd0>,\n",
       "        <matplotlib.axes._subplots.AxesSubplot object at 0x1c2007bcd0>],\n",
       "       [<matplotlib.axes._subplots.AxesSubplot object at 0x1c200b9510>,\n",
       "        <matplotlib.axes._subplots.AxesSubplot object at 0x1c200efd10>,\n",
       "        <matplotlib.axes._subplots.AxesSubplot object at 0x1c200f9850>]],\n",
       "      dtype=object)"
      ]
     },
     "execution_count": 93,
     "metadata": {},
     "output_type": "execute_result"
    },
    {
     "data": {
      "image/png": "[encoded data removed]",
      "text/plain": [
       "<Figure size 432x288 with 9 Axes>"
      ]
     },
     "metadata": {
      "needs_background": "light"
     },
     "output_type": "display_data"
    }
   ],
   "source": [
    "from pandas.plotting import scatter_matrix\n",
    "scatter_matrix(data[['temperature','rainfall','mosquitos']])"
   ]
  },
  {
   "cell_type": "code",
   "execution_count": 94,
   "metadata": {},
   "outputs": [
    {
     "data": {
      "text/html": [
       "<div>\n",
       "<style scoped>\n",
       "    .dataframe tbody tr th:only-of-type {\n",
       "        vertical-align: middle;\n",
       "    }\n",
       "\n",
       "    .dataframe tbody tr th {\n",
       "        vertical-align: top;\n",
       "    }\n",
       "\n",
       "    .dataframe thead th {\n",
       "        text-align: right;\n",
       "    }\n",
       "</style>\n",
       "<table border=\"1\" class=\"dataframe\">\n",
       "  <thead>\n",
       "    <tr style=\"text-align: right;\">\n",
       "      <th></th>\n",
       "      <th>year</th>\n",
       "      <th>temperature</th>\n",
       "      <th>rainfall</th>\n",
       "      <th>mosquitos</th>\n",
       "    </tr>\n",
       "  </thead>\n",
       "  <tbody>\n",
       "    <tr>\n",
       "      <td>year</td>\n",
       "      <td>1.000000</td>\n",
       "      <td>-0.524566</td>\n",
       "      <td>0.245790</td>\n",
       "      <td>0.230242</td>\n",
       "    </tr>\n",
       "    <tr>\n",
       "      <td>temperature</td>\n",
       "      <td>-0.524566</td>\n",
       "      <td>1.000000</td>\n",
       "      <td>-0.612257</td>\n",
       "      <td>-0.571635</td>\n",
       "    </tr>\n",
       "    <tr>\n",
       "      <td>rainfall</td>\n",
       "      <td>0.245790</td>\n",
       "      <td>-0.612257</td>\n",
       "      <td>1.000000</td>\n",
       "      <td>0.998027</td>\n",
       "    </tr>\n",
       "    <tr>\n",
       "      <td>mosquitos</td>\n",
       "      <td>0.230242</td>\n",
       "      <td>-0.571635</td>\n",
       "      <td>0.998027</td>\n",
       "      <td>1.000000</td>\n",
       "    </tr>\n",
       "  </tbody>\n",
       "</table>\n",
       "</div>"
      ],
      "text/plain": [
       "                 year  temperature  rainfall  mosquitos\n",
       "year         1.000000    -0.524566  0.245790   0.230242\n",
       "temperature -0.524566     1.000000 -0.612257  -0.571635\n",
       "rainfall     0.245790    -0.612257  1.000000   0.998027\n",
       "mosquitos    0.230242    -0.571635  0.998027   1.000000"
      ]
     },
     "execution_count": 94,
     "metadata": {},
     "output_type": "execute_result"
    }
   ],
   "source": [
    "data.corr()"
   ]
  },
  {
   "cell_type": "code",
   "execution_count": 95,
   "metadata": {},
   "outputs": [],
   "source": [
    "import statsmodels.api as sm"
   ]
  },
  {
   "cell_type": "code",
   "execution_count": 96,
   "metadata": {},
   "outputs": [],
   "source": [
    "x = data[\"rainfall\"]\n",
    "y = data[\"mosquitos\"]\n",
    "X = sm.add_constant(x) # add y-intercept\n",
    "\n",
    "model = sm.OLS(y, X).fit()# Ordinary least squares\n",
    "predictions = model.predict(X)"
   ]
  },
  {
   "cell_type": "code",
   "execution_count": 97,
   "metadata": {},
   "outputs": [
    {
     "data": {
      "text/html": [
       "<table class=\"simpletable\">\n",
       "<caption>OLS Regression Results</caption>\n",
       "<tr>\n",
       "  <th>Dep. Variable:</th>        <td>mosquitos</td>    <th>  R-squared:         </th> <td>   0.996</td>\n",
       "</tr>\n",
       "<tr>\n",
       "  <th>Model:</th>                   <td>OLS</td>       <th>  Adj. R-squared:    </th> <td>   0.996</td>\n",
       "</tr>\n",
       "<tr>\n",
       "  <th>Method:</th>             <td>Least Squares</td>  <th>  F-statistic:       </th> <td>   2022.</td>\n",
       "</tr>\n",
       "<tr>\n",
       "  <th>Date:</th>             <td>Wed, 25 Mar 2020</td> <th>  Prob (F-statistic):</th> <td>6.61e-11</td>\n",
       "</tr>\n",
       "<tr>\n",
       "  <th>Time:</th>                 <td>14:54:33</td>     <th>  Log-Likelihood:    </th> <td> -21.017</td>\n",
       "</tr>\n",
       "<tr>\n",
       "  <th>No. Observations:</th>      <td>    10</td>      <th>  AIC:               </th> <td>   46.03</td>\n",
       "</tr>\n",
       "<tr>\n",
       "  <th>Df Residuals:</th>          <td>     8</td>      <th>  BIC:               </th> <td>   46.64</td>\n",
       "</tr>\n",
       "<tr>\n",
       "  <th>Df Model:</th>              <td>     1</td>      <th>                     </th>     <td> </td>   \n",
       "</tr>\n",
       "<tr>\n",
       "  <th>Covariance Type:</th>      <td>nonrobust</td>    <th>                     </th>     <td> </td>   \n",
       "</tr>\n",
       "</table>\n",
       "<table class=\"simpletable\">\n",
       "<tr>\n",
       "      <td></td>        <th>coef</th>     <th>std err</th>      <th>t</th>      <th>P>|t|</th>  <th>[0.025</th>    <th>0.975]</th>  \n",
       "</tr>\n",
       "<tr>\n",
       "  <th>const</th>    <td>   49.8413</td> <td>    3.223</td> <td>   15.465</td> <td> 0.000</td> <td>   42.409</td> <td>   57.273</td>\n",
       "</tr>\n",
       "<tr>\n",
       "  <th>rainfall</th> <td>    0.6592</td> <td>    0.015</td> <td>   44.965</td> <td> 0.000</td> <td>    0.625</td> <td>    0.693</td>\n",
       "</tr>\n",
       "</table>\n",
       "<table class=\"simpletable\">\n",
       "<tr>\n",
       "  <th>Omnibus:</th>       <td> 0.354</td> <th>  Durbin-Watson:     </th> <td>   1.236</td>\n",
       "</tr>\n",
       "<tr>\n",
       "  <th>Prob(Omnibus):</th> <td> 0.838</td> <th>  Jarque-Bera (JB):  </th> <td>   0.454</td>\n",
       "</tr>\n",
       "<tr>\n",
       "  <th>Skew:</th>          <td>-0.170</td> <th>  Prob(JB):          </th> <td>   0.797</td>\n",
       "</tr>\n",
       "<tr>\n",
       "  <th>Kurtosis:</th>      <td> 2.013</td> <th>  Cond. No.          </th> <td>1.01e+03</td>\n",
       "</tr>\n",
       "</table><br/><br/>Warnings:<br/>[1] Standard Errors assume that the covariance matrix of the errors is correctly specified.<br/>[2] The condition number is large, 1.01e+03. This might indicate that there are<br/>strong multicollinearity or other numerical problems."
      ],
      "text/plain": [
       "<class 'statsmodels.iolib.summary.Summary'>\n",
       "\"\"\"\n",
       "                            OLS Regression Results                            \n",
       "==============================================================================\n",
       "Dep. Variable:              mosquitos   R-squared:                       0.996\n",
       "Model:                            OLS   Adj. R-squared:                  0.996\n",
       "Method:                 Least Squares   F-statistic:                     2022.\n",
       "Date:                Wed, 25 Mar 2020   Prob (F-statistic):           6.61e-11\n",
       "Time:                        14:54:33   Log-Likelihood:                -21.017\n",
       "No. Observations:                  10   AIC:                             46.03\n",
       "Df Residuals:                       8   BIC:                             46.64\n",
       "Df Model:                           1                                         \n",
       "Covariance Type:            nonrobust                                         \n",
       "==============================================================================\n",
       "                 coef    std err          t      P>|t|      [0.025      0.975]\n",
       "------------------------------------------------------------------------------\n",
       "const         49.8413      3.223     15.465      0.000      42.409      57.273\n",
       "rainfall       0.6592      0.015     44.965      0.000       0.625       0.693\n",
       "==============================================================================\n",
       "Omnibus:                        0.354   Durbin-Watson:                   1.236\n",
       "Prob(Omnibus):                  0.838   Jarque-Bera (JB):                0.454\n",
       "Skew:                          -0.170   Prob(JB):                        0.797\n",
       "Kurtosis:                       2.013   Cond. No.                     1.01e+03\n",
       "==============================================================================\n",
       "\n",
       "Warnings:\n",
       "[1] Standard Errors assume that the covariance matrix of the errors is correctly specified.\n",
       "[2] The condition number is large, 1.01e+03. This might indicate that there are\n",
       "strong multicollinearity or other numerical problems.\n",
       "\"\"\""
      ]
     },
     "execution_count": 97,
     "metadata": {},
     "output_type": "execute_result"
    }
   ],
   "source": [
    "model.summary()"
   ]
  },
  {
   "cell_type": "code",
   "execution_count": 98,
   "metadata": {},
   "outputs": [
    {
     "data": {
      "text/plain": [
       "0.6591738931994521"
      ]
     },
     "execution_count": 98,
     "metadata": {},
     "output_type": "execute_result"
    }
   ],
   "source": [
    "model.params['rainfall']"
   ]
  },
  {
   "cell_type": "code",
   "execution_count": 99,
   "metadata": {},
   "outputs": [
    {
     "data": {
      "text/plain": [
       "const       3.040953e-07\n",
       "rainfall    6.608061e-11\n",
       "dtype: float64"
      ]
     },
     "execution_count": 99,
     "metadata": {},
     "output_type": "execute_result"
    }
   ],
   "source": [
    "model.pvalues"
   ]
  },
  {
   "cell_type": "code",
   "execution_count": 100,
   "metadata": {},
   "outputs": [
    {
     "data": {
      "text/plain": [
       "year           20055\n",
       "temperature      800\n",
       "rainfall        2146\n",
       "mosquitos       1913\n",
       "dtype: int64"
      ]
     },
     "execution_count": 100,
     "metadata": {},
     "output_type": "execute_result"
    }
   ],
   "source": [
    "data.sum(0, skipna=False)"
   ]
  },
  {
   "cell_type": "code",
   "execution_count": 119,
   "metadata": {},
   "outputs": [],
   "source": [
    "exam_results = pd.read_excel(\"./examples/exam_results.xlsx\")"
   ]
  },
  {
   "cell_type": "code",
   "execution_count": 120,
   "metadata": {},
   "outputs": [
    {
     "data": {
      "text/html": [
       "<div>\n",
       "<style scoped>\n",
       "    .dataframe tbody tr th:only-of-type {\n",
       "        vertical-align: middle;\n",
       "    }\n",
       "\n",
       "    .dataframe tbody tr th {\n",
       "        vertical-align: top;\n",
       "    }\n",
       "\n",
       "    .dataframe thead th {\n",
       "        text-align: right;\n",
       "    }\n",
       "</style>\n",
       "<table border=\"1\" class=\"dataframe\">\n",
       "  <thead>\n",
       "    <tr style=\"text-align: right;\">\n",
       "      <th></th>\n",
       "      <th>Student Code</th>\n",
       "      <th>Surname</th>\n",
       "      <th>Forename 1</th>\n",
       "      <th>Programme</th>\n",
       "      <th>Degree</th>\n",
       "      <th>Quantum Mechanics</th>\n",
       "      <th>Relativity</th>\n",
       "      <th>Waves</th>\n",
       "      <th>Lab work</th>\n",
       "      <th>Unnamed: 9</th>\n",
       "      <th>Tutor group</th>\n",
       "    </tr>\n",
       "  </thead>\n",
       "  <tbody>\n",
       "    <tr>\n",
       "      <td>0</td>\n",
       "      <td>2103</td>\n",
       "      <td>Lemarr</td>\n",
       "      <td>Charlesetta</td>\n",
       "      <td>Physics</td>\n",
       "      <td>MSci</td>\n",
       "      <td>54</td>\n",
       "      <td>86.0</td>\n",
       "      <td>45.0</td>\n",
       "      <td>55</td>\n",
       "      <td>NaN</td>\n",
       "      <td>1</td>\n",
       "    </tr>\n",
       "    <tr>\n",
       "      <td>1</td>\n",
       "      <td>2104</td>\n",
       "      <td>Narron</td>\n",
       "      <td>Elliot</td>\n",
       "      <td>Physics</td>\n",
       "      <td>MSci</td>\n",
       "      <td>72</td>\n",
       "      <td>79.0</td>\n",
       "      <td>63.0</td>\n",
       "      <td>43</td>\n",
       "      <td>NaN</td>\n",
       "      <td>1</td>\n",
       "    </tr>\n",
       "    <tr>\n",
       "      <td>2</td>\n",
       "      <td>2105</td>\n",
       "      <td>Seevers</td>\n",
       "      <td>Josue</td>\n",
       "      <td>Physics</td>\n",
       "      <td>BSc</td>\n",
       "      <td>57</td>\n",
       "      <td>90.0</td>\n",
       "      <td>45.0</td>\n",
       "      <td>61</td>\n",
       "      <td>NaN</td>\n",
       "      <td>1</td>\n",
       "    </tr>\n",
       "    <tr>\n",
       "      <td>3</td>\n",
       "      <td>2106</td>\n",
       "      <td>Mcpeak</td>\n",
       "      <td>Xochitl</td>\n",
       "      <td>Physics</td>\n",
       "      <td>MSci</td>\n",
       "      <td>48</td>\n",
       "      <td>82.0</td>\n",
       "      <td>45.0</td>\n",
       "      <td>94</td>\n",
       "      <td>NaN</td>\n",
       "      <td>1</td>\n",
       "    </tr>\n",
       "    <tr>\n",
       "      <td>4</td>\n",
       "      <td>2107</td>\n",
       "      <td>Devall</td>\n",
       "      <td>Lorene</td>\n",
       "      <td>Physics</td>\n",
       "      <td>BSc</td>\n",
       "      <td>70</td>\n",
       "      <td>87.0</td>\n",
       "      <td>43.0</td>\n",
       "      <td>47</td>\n",
       "      <td>NaN</td>\n",
       "      <td>1</td>\n",
       "    </tr>\n",
       "  </tbody>\n",
       "</table>\n",
       "</div>"
      ],
      "text/plain": [
       "   Student Code  Surname   Forename 1 Programme Degree  Quantum Mechanics  \\\n",
       "0          2103   Lemarr  Charlesetta   Physics   MSci                 54   \n",
       "1          2104   Narron       Elliot   Physics   MSci                 72   \n",
       "2          2105  Seevers        Josue   Physics    BSc                 57   \n",
       "3          2106   Mcpeak      Xochitl   Physics   MSci                 48   \n",
       "4          2107   Devall       Lorene   Physics    BSc                 70   \n",
       "\n",
       "   Relativity  Waves  Lab work  Unnamed: 9  Tutor group  \n",
       "0        86.0   45.0        55         NaN            1  \n",
       "1        79.0   63.0        43         NaN            1  \n",
       "2        90.0   45.0        61         NaN            1  \n",
       "3        82.0   45.0        94         NaN            1  \n",
       "4        87.0   43.0        47         NaN            1  "
      ]
     },
     "execution_count": 120,
     "metadata": {},
     "output_type": "execute_result"
    }
   ],
   "source": [
    "exam_results.head()"
   ]
  },
  {
   "cell_type": "code",
   "execution_count": 103,
   "metadata": {},
   "outputs": [],
   "source": [
    "exam_results['mean'] = exam_results[['Quantum Mechanics','Relativity','Waves','Lab work']].mean(1,skipna = False)"
   ]
  },
  {
   "cell_type": "code",
   "execution_count": 104,
   "metadata": {},
   "outputs": [
    {
     "name": "stdout",
     "output_type": "stream",
     "text": [
      "    Student Code      Surname Forename 1 Programme Degree  Quantum Mechanics  \\\n",
      "66          2169      Helberg  Alexandra   Physics    BSc                 87   \n",
      "5           2108  Morningstar    Elfreda   Physics   MSci                 97   \n",
      "22          2125       Paneto     Ayesha   Physics    BSc                 85   \n",
      "15          2118        Revel   Susannah   Physics    BSc                 87   \n",
      "32          2135     Bouchard        Joe   Physics   MSci                 93   \n",
      "33          2136       Rosado     Kellee   Physics   MSci                 79   \n",
      "\n",
      "    Relativity  Waves  Lab work  Unnamed: 9  Tutor group   mean  \n",
      "66        97.0   76.0        91         NaN           12  87.75  \n",
      "5         99.0   83.0        66         NaN            1  86.25  \n",
      "22        79.0   80.0        94         NaN            4  84.50  \n",
      "15        89.0   79.0        83         NaN            3  84.50  \n",
      "32       101.0   81.0        62         NaN            6  84.25  \n",
      "33        92.0   56.0        98         NaN            6  81.25  \n"
     ]
    }
   ],
   "source": [
    "print(exam_results[exam_results['Programme'] == 'Physics'].sort_values('mean',ascending=False).head(6))"
   ]
  },
  {
   "cell_type": "code",
   "execution_count": 105,
   "metadata": {},
   "outputs": [
    {
     "data": {
      "text/html": [
       "<div>\n",
       "<style scoped>\n",
       "    .dataframe tbody tr th:only-of-type {\n",
       "        vertical-align: middle;\n",
       "    }\n",
       "\n",
       "    .dataframe tbody tr th {\n",
       "        vertical-align: top;\n",
       "    }\n",
       "\n",
       "    .dataframe thead th {\n",
       "        text-align: right;\n",
       "    }\n",
       "</style>\n",
       "<table border=\"1\" class=\"dataframe\">\n",
       "  <thead>\n",
       "    <tr style=\"text-align: right;\">\n",
       "      <th></th>\n",
       "      <th>Student Code</th>\n",
       "      <th>Quantum Mechanics</th>\n",
       "      <th>Relativity</th>\n",
       "      <th>Waves</th>\n",
       "      <th>Lab work</th>\n",
       "      <th>Unnamed: 9</th>\n",
       "      <th>mean</th>\n",
       "    </tr>\n",
       "    <tr>\n",
       "      <th>Tutor group</th>\n",
       "      <th></th>\n",
       "      <th></th>\n",
       "      <th></th>\n",
       "      <th></th>\n",
       "      <th></th>\n",
       "      <th></th>\n",
       "      <th></th>\n",
       "    </tr>\n",
       "  </thead>\n",
       "  <tbody>\n",
       "    <tr>\n",
       "      <td>12</td>\n",
       "      <td>2171.5</td>\n",
       "      <td>61.333333</td>\n",
       "      <td>82.333333</td>\n",
       "      <td>54.333333</td>\n",
       "      <td>74.333333</td>\n",
       "      <td>NaN</td>\n",
       "      <td>68.083333</td>\n",
       "    </tr>\n",
       "    <tr>\n",
       "      <td>3</td>\n",
       "      <td>2118.5</td>\n",
       "      <td>66.333333</td>\n",
       "      <td>73.666667</td>\n",
       "      <td>54.500000</td>\n",
       "      <td>76.833333</td>\n",
       "      <td>NaN</td>\n",
       "      <td>67.833333</td>\n",
       "    </tr>\n",
       "    <tr>\n",
       "      <td>4</td>\n",
       "      <td>2124.5</td>\n",
       "      <td>71.000000</td>\n",
       "      <td>78.333333</td>\n",
       "      <td>60.000000</td>\n",
       "      <td>61.666667</td>\n",
       "      <td>NaN</td>\n",
       "      <td>67.750000</td>\n",
       "    </tr>\n",
       "    <tr>\n",
       "      <td>14</td>\n",
       "      <td>2183.5</td>\n",
       "      <td>64.166667</td>\n",
       "      <td>86.500000</td>\n",
       "      <td>48.833333</td>\n",
       "      <td>69.666667</td>\n",
       "      <td>NaN</td>\n",
       "      <td>67.291667</td>\n",
       "    </tr>\n",
       "    <tr>\n",
       "      <td>6</td>\n",
       "      <td>2137.5</td>\n",
       "      <td>59.666667</td>\n",
       "      <td>78.166667</td>\n",
       "      <td>53.333333</td>\n",
       "      <td>77.333333</td>\n",
       "      <td>NaN</td>\n",
       "      <td>67.125000</td>\n",
       "    </tr>\n",
       "  </tbody>\n",
       "</table>\n",
       "</div>"
      ],
      "text/plain": [
       "             Student Code  Quantum Mechanics  Relativity      Waves  \\\n",
       "Tutor group                                                           \n",
       "12                 2171.5          61.333333   82.333333  54.333333   \n",
       "3                  2118.5          66.333333   73.666667  54.500000   \n",
       "4                  2124.5          71.000000   78.333333  60.000000   \n",
       "14                 2183.5          64.166667   86.500000  48.833333   \n",
       "6                  2137.5          59.666667   78.166667  53.333333   \n",
       "\n",
       "              Lab work  Unnamed: 9       mean  \n",
       "Tutor group                                    \n",
       "12           74.333333         NaN  68.083333  \n",
       "3            76.833333         NaN  67.833333  \n",
       "4            61.666667         NaN  67.750000  \n",
       "14           69.666667         NaN  67.291667  \n",
       "6            77.333333         NaN  67.125000  "
      ]
     },
     "execution_count": 105,
     "metadata": {},
     "output_type": "execute_result"
    }
   ],
   "source": [
    "exam_results.groupby('Tutor group').mean().sort_values('mean', ascending= False).head()"
   ]
  },
  {
   "cell_type": "code",
   "execution_count": 106,
   "metadata": {},
   "outputs": [],
   "source": [
    "mean_course = exam_results[['Quantum Mechanics','Relativity','Waves','Lab work']].mean().sort_values()"
   ]
  },
  {
   "cell_type": "code",
   "execution_count": 107,
   "metadata": {},
   "outputs": [
    {
     "data": {
      "image/png": "[encoded data removed]",
      "text/plain": [
       "<Figure size 432x288 with 1 Axes>"
      ]
     },
     "metadata": {
      "needs_background": "light"
     },
     "output_type": "display_data"
    }
   ],
   "source": [
    "mean_course.plot(kind = 'bar')\n",
    "plt.tight_layout()\n",
    "plt.show()"
   ]
  },
  {
   "cell_type": "code",
   "execution_count": 108,
   "metadata": {},
   "outputs": [],
   "source": [
    "bins = [0, 40, 50, 60, 70, 100]"
   ]
  },
  {
   "cell_type": "code",
   "execution_count": 109,
   "metadata": {},
   "outputs": [
    {
     "data": {
      "image/png": "[encoded data removed]",
      "text/plain": [
       "<Figure size 432x288 with 1 Axes>"
      ]
     },
     "metadata": {},
     "output_type": "display_data"
    }
   ],
   "source": [
    "labels = ['F','3','2:2','2:1','1']\n",
    "pd.cut(exam_results['Quantum Mechanics'], bins, labels = labels).value_counts().plot(kind = 'pie')\n",
    "plt.show()"
   ]
  },
  {
   "cell_type": "code",
   "execution_count": 110,
   "metadata": {},
   "outputs": [
    {
     "name": "stdout",
     "output_type": "stream",
     "text": [
      "Dear Meagan, You have failed.\n",
      "Dear Gerda, You have failed.\n",
      "Dear Matthew, You have failed.\n",
      "Dear Buford, You have failed.\n",
      "Dear Londa, You have failed.\n",
      "Dear Zona, You have failed.\n",
      "Dear Zita, You have failed.\n",
      "Dear Rhett, You have failed.\n",
      "Dear Hulda, You have failed.\n",
      "Dear Rocco, You have failed.\n",
      "Dear Melva, You have failed.\n",
      "Dear Renato, You have failed.\n",
      "Dear Zella, You have failed.\n",
      "Dear Anderson, You have failed.\n",
      "Dear Royce, You have failed.\n",
      "Dear Marlen, You have failed.\n",
      "Dear Wai, You have failed.\n",
      "Dear Ramiro, You have failed.\n",
      "Dear Tammy, You have failed.\n",
      "Dear Carmelina, You have failed.\n",
      "Dear Palmira, You have failed.\n",
      "Dear Anisa, You have failed.\n",
      "Dear Benedict, You have failed.\n",
      "Dear Arianne, You have failed.\n",
      "Dear Jamal, You have failed.\n",
      "Dear Jen, You have failed.\n",
      "Dear Heide, You have failed.\n",
      "Dear Vincenzo, You have failed.\n",
      "Dear Rosie, You have failed.\n",
      "Dear Lang, You have failed.\n",
      "Dear Moses, You have failed.\n"
     ]
    }
   ],
   "source": [
    "for index, row in exam_results[exam_results['Programme'] == 'Physics'].iterrows():\n",
    "    course_passed = 0\n",
    "    if row['Quantum Mechanics'] >=40:\n",
    "        course_passed += 1\n",
    "    if row['Lab work'] >= 40:\n",
    "        course_passed += 1\n",
    "    if row['Relativity'] >= 40:\n",
    "        course_passed += 1\n",
    "    if row['Waves'] >= 40:\n",
    "        course_passed += 1\n",
    "    if course_passed < 4:\n",
    "        print('Dear ' + row['Forename 1'] + ', You have failed.')"
   ]
  },
  {
   "cell_type": "code",
   "execution_count": 111,
   "metadata": {},
   "outputs": [
    {
     "data": {
      "image/png": "[encoded data removed]",
      "text/plain": [
       "<Figure size 432x288 with 1 Axes>"
      ]
     },
     "metadata": {
      "needs_background": "light"
     },
     "output_type": "display_data"
    },
    {
     "data": {
      "text/plain": [
       "<Figure size 432x288 with 0 Axes>"
      ]
     },
     "metadata": {},
     "output_type": "display_data"
    }
   ],
   "source": [
    "exam_results.hist('Quantum Mechanics')\n",
    "plt.show()\n",
    "plt.tight_layout()"
   ]
  },
  {
   "cell_type": "code",
   "execution_count": 112,
   "metadata": {},
   "outputs": [
    {
     "data": {
      "image/png": "[encoded data removed]",
      "text/plain": [
       "<Figure size 432x288 with 16 Axes>"
      ]
     },
     "metadata": {
      "needs_background": "light"
     },
     "output_type": "display_data"
    }
   ],
   "source": [
    "from pandas.plotting import scatter_matrix\n",
    "# kde = Kernal density estimation\n",
    "scatter_matrix(exam_results[['Quantum Mechanics','Waves','Relativity','Lab work']],diagonal='kde')\n",
    "plt.show()"
   ]
  },
  {
   "cell_type": "code",
   "execution_count": 113,
   "metadata": {},
   "outputs": [],
   "source": [
    "import statsmodels.api as sm"
   ]
  },
  {
   "cell_type": "code",
   "execution_count": 152,
   "metadata": {},
   "outputs": [],
   "source": [
    "x = exam_results[\"Relativity\"]\n",
    "y = exam_results[\"Waves\"]\n",
    "y.fillna(y.mean(), inplace=True)\n",
    "x.fillna(x.mean(), inplace=True)"
   ]
  },
  {
   "cell_type": "code",
   "execution_count": 154,
   "metadata": {},
   "outputs": [
    {
     "data": {
      "text/plain": [
       "0      86.0\n",
       "1      79.0\n",
       "2      90.0\n",
       "3      82.0\n",
       "4      87.0\n",
       "       ... \n",
       "203    62.0\n",
       "204    91.0\n",
       "205    93.0\n",
       "206    77.0\n",
       "207    54.0\n",
       "Name: Relativity, Length: 208, dtype: float64"
      ]
     },
     "execution_count": 154,
     "metadata": {},
     "output_type": "execute_result"
    }
   ],
   "source": [
    "x"
   ]
  },
  {
   "cell_type": "code",
   "execution_count": 153,
   "metadata": {},
   "outputs": [
    {
     "data": {
      "text/html": [
       "<div>\n",
       "<style scoped>\n",
       "    .dataframe tbody tr th:only-of-type {\n",
       "        vertical-align: middle;\n",
       "    }\n",
       "\n",
       "    .dataframe tbody tr th {\n",
       "        vertical-align: top;\n",
       "    }\n",
       "\n",
       "    .dataframe thead th {\n",
       "        text-align: right;\n",
       "    }\n",
       "</style>\n",
       "<table border=\"1\" class=\"dataframe\">\n",
       "  <thead>\n",
       "    <tr style=\"text-align: right;\">\n",
       "      <th></th>\n",
       "      <th>const</th>\n",
       "      <th>Relativity</th>\n",
       "    </tr>\n",
       "  </thead>\n",
       "  <tbody>\n",
       "    <tr>\n",
       "      <td>0</td>\n",
       "      <td>1.0</td>\n",
       "      <td>86.0</td>\n",
       "    </tr>\n",
       "    <tr>\n",
       "      <td>1</td>\n",
       "      <td>1.0</td>\n",
       "      <td>79.0</td>\n",
       "    </tr>\n",
       "    <tr>\n",
       "      <td>2</td>\n",
       "      <td>1.0</td>\n",
       "      <td>90.0</td>\n",
       "    </tr>\n",
       "    <tr>\n",
       "      <td>3</td>\n",
       "      <td>1.0</td>\n",
       "      <td>82.0</td>\n",
       "    </tr>\n",
       "    <tr>\n",
       "      <td>4</td>\n",
       "      <td>1.0</td>\n",
       "      <td>87.0</td>\n",
       "    </tr>\n",
       "    <tr>\n",
       "      <td>...</td>\n",
       "      <td>...</td>\n",
       "      <td>...</td>\n",
       "    </tr>\n",
       "    <tr>\n",
       "      <td>203</td>\n",
       "      <td>1.0</td>\n",
       "      <td>62.0</td>\n",
       "    </tr>\n",
       "    <tr>\n",
       "      <td>204</td>\n",
       "      <td>1.0</td>\n",
       "      <td>91.0</td>\n",
       "    </tr>\n",
       "    <tr>\n",
       "      <td>205</td>\n",
       "      <td>1.0</td>\n",
       "      <td>93.0</td>\n",
       "    </tr>\n",
       "    <tr>\n",
       "      <td>206</td>\n",
       "      <td>1.0</td>\n",
       "      <td>77.0</td>\n",
       "    </tr>\n",
       "    <tr>\n",
       "      <td>207</td>\n",
       "      <td>1.0</td>\n",
       "      <td>54.0</td>\n",
       "    </tr>\n",
       "  </tbody>\n",
       "</table>\n",
       "<p>208 rows × 2 columns</p>\n",
       "</div>"
      ],
      "text/plain": [
       "     const  Relativity\n",
       "0      1.0        86.0\n",
       "1      1.0        79.0\n",
       "2      1.0        90.0\n",
       "3      1.0        82.0\n",
       "4      1.0        87.0\n",
       "..     ...         ...\n",
       "203    1.0        62.0\n",
       "204    1.0        91.0\n",
       "205    1.0        93.0\n",
       "206    1.0        77.0\n",
       "207    1.0        54.0\n",
       "\n",
       "[208 rows x 2 columns]"
      ]
     },
     "execution_count": 153,
     "metadata": {},
     "output_type": "execute_result"
    }
   ],
   "source": [
    "X = sm.add_constant(x) # add y-intercept\n",
    "X"
   ]
  },
  {
   "cell_type": "code",
   "execution_count": 156,
   "metadata": {},
   "outputs": [
    {
     "data": {
      "text/plain": [
       "<statsmodels.regression.linear_model.RegressionResultsWrapper at 0x1c20513050>"
      ]
     },
     "execution_count": 156,
     "metadata": {},
     "output_type": "execute_result"
    }
   ],
   "source": [
    "model = sm.OLS(y, X).fit()# Ordinary least squares"
   ]
  },
  {
   "cell_type": "code",
   "execution_count": 157,
   "metadata": {},
   "outputs": [
    {
     "data": {
      "text/plain": [
       "0      53.147899\n",
       "1      51.656076\n",
       "2      54.000370\n",
       "3      52.295429\n",
       "4      53.361017\n",
       "         ...    \n",
       "203    48.033075\n",
       "204    54.213488\n",
       "205    54.639723\n",
       "206    51.229840\n",
       "207    46.328134\n",
       "Length: 208, dtype: float64"
      ]
     },
     "execution_count": 157,
     "metadata": {},
     "output_type": "execute_result"
    }
   ],
   "source": [
    "predictions = model.predict(X)\n",
    "predictions"
   ]
  },
  {
   "cell_type": "code",
   "execution_count": 148,
   "metadata": {},
   "outputs": [
    {
     "data": {
      "text/html": [
       "<table class=\"simpletable\">\n",
       "<caption>OLS Regression Results</caption>\n",
       "<tr>\n",
       "  <th>Dep. Variable:</th>          <td>Waves</td>      <th>  R-squared:         </th> <td>   0.198</td>\n",
       "</tr>\n",
       "<tr>\n",
       "  <th>Model:</th>                   <td>OLS</td>       <th>  Adj. R-squared:    </th> <td>   0.194</td>\n",
       "</tr>\n",
       "<tr>\n",
       "  <th>Method:</th>             <td>Least Squares</td>  <th>  F-statistic:       </th> <td>   50.92</td>\n",
       "</tr>\n",
       "<tr>\n",
       "  <th>Date:</th>             <td>Wed, 25 Mar 2020</td> <th>  Prob (F-statistic):</th> <td>1.61e-11</td>\n",
       "</tr>\n",
       "<tr>\n",
       "  <th>Time:</th>                 <td>15:04:17</td>     <th>  Log-Likelihood:    </th> <td> -767.29</td>\n",
       "</tr>\n",
       "<tr>\n",
       "  <th>No. Observations:</th>      <td>   208</td>      <th>  AIC:               </th> <td>   1539.</td>\n",
       "</tr>\n",
       "<tr>\n",
       "  <th>Df Residuals:</th>          <td>   206</td>      <th>  BIC:               </th> <td>   1545.</td>\n",
       "</tr>\n",
       "<tr>\n",
       "  <th>Df Model:</th>              <td>     1</td>      <th>                     </th>     <td> </td>   \n",
       "</tr>\n",
       "<tr>\n",
       "  <th>Covariance Type:</th>      <td>nonrobust</td>    <th>                     </th>     <td> </td>   \n",
       "</tr>\n",
       "</table>\n",
       "<table class=\"simpletable\">\n",
       "<tr>\n",
       "       <td></td>         <th>coef</th>     <th>std err</th>      <th>t</th>      <th>P>|t|</th>  <th>[0.025</th>    <th>0.975]</th>  \n",
       "</tr>\n",
       "<tr>\n",
       "  <th>const</th>      <td>   34.8198</td> <td>    2.197</td> <td>   15.850</td> <td> 0.000</td> <td>   30.489</td> <td>   39.151</td>\n",
       "</tr>\n",
       "<tr>\n",
       "  <th>Relativity</th> <td>    0.2131</td> <td>    0.030</td> <td>    7.136</td> <td> 0.000</td> <td>    0.154</td> <td>    0.272</td>\n",
       "</tr>\n",
       "</table>\n",
       "<table class=\"simpletable\">\n",
       "<tr>\n",
       "  <th>Omnibus:</th>       <td>12.807</td> <th>  Durbin-Watson:     </th> <td>   2.055</td>\n",
       "</tr>\n",
       "<tr>\n",
       "  <th>Prob(Omnibus):</th> <td> 0.002</td> <th>  Jarque-Bera (JB):  </th> <td>  33.277</td>\n",
       "</tr>\n",
       "<tr>\n",
       "  <th>Skew:</th>          <td> 0.003</td> <th>  Prob(JB):          </th> <td>5.94e-08</td>\n",
       "</tr>\n",
       "<tr>\n",
       "  <th>Kurtosis:</th>      <td> 4.960</td> <th>  Cond. No.          </th> <td>    240.</td>\n",
       "</tr>\n",
       "</table><br/><br/>Warnings:<br/>[1] Standard Errors assume that the covariance matrix of the errors is correctly specified."
      ],
      "text/plain": [
       "<class 'statsmodels.iolib.summary.Summary'>\n",
       "\"\"\"\n",
       "                            OLS Regression Results                            \n",
       "==============================================================================\n",
       "Dep. Variable:                  Waves   R-squared:                       0.198\n",
       "Model:                            OLS   Adj. R-squared:                  0.194\n",
       "Method:                 Least Squares   F-statistic:                     50.92\n",
       "Date:                Wed, 25 Mar 2020   Prob (F-statistic):           1.61e-11\n",
       "Time:                        15:04:17   Log-Likelihood:                -767.29\n",
       "No. Observations:                 208   AIC:                             1539.\n",
       "Df Residuals:                     206   BIC:                             1545.\n",
       "Df Model:                           1                                         \n",
       "Covariance Type:            nonrobust                                         \n",
       "==============================================================================\n",
       "                 coef    std err          t      P>|t|      [0.025      0.975]\n",
       "------------------------------------------------------------------------------\n",
       "const         34.8198      2.197     15.850      0.000      30.489      39.151\n",
       "Relativity     0.2131      0.030      7.136      0.000       0.154       0.272\n",
       "==============================================================================\n",
       "Omnibus:                       12.807   Durbin-Watson:                   2.055\n",
       "Prob(Omnibus):                  0.002   Jarque-Bera (JB):               33.277\n",
       "Skew:                           0.003   Prob(JB):                     5.94e-08\n",
       "Kurtosis:                       4.960   Cond. No.                         240.\n",
       "==============================================================================\n",
       "\n",
       "Warnings:\n",
       "[1] Standard Errors assume that the covariance matrix of the errors is correctly specified.\n",
       "\"\"\""
      ]
     },
     "execution_count": 148,
     "metadata": {},
     "output_type": "execute_result"
    }
   ],
   "source": [
    "model.summary()"
   ]
  },
  {
   "cell_type": "code",
   "execution_count": null,
   "metadata": {},
   "outputs": [],
   "source": [
    "model = sm.OLS(y, X, missing='drop').fit()"
   ]
  }
 ],
 "metadata": {
  "kernelspec": {
   "display_name": "Python 3",
   "language": "python",
   "name": "python3"
  },
  "language_info": {
   "codemirror_mode": {
    "name": "ipython",
    "version": 3
   },
   "file_extension": ".py",
   "mimetype": "text/x-python",
   "name": "python",
   "nbconvert_exporter": "python",
   "pygments_lexer": "ipython3",
   "version": "3.7.4"
  }
 },
 "nbformat": 4,
 "nbformat_minor": 2
}
