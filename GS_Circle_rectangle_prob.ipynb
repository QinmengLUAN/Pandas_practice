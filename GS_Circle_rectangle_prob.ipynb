{
 "cells": [
  {
   "cell_type": "code",
   "execution_count": 96,
   "metadata": {},
   "outputs": [],
   "source": [
    "# 在xy坐标系中画一个圆，圆内随机分布两点，两点连线当作一个矩形的对角线，该矩形的各边平行于x轴和y轴，求该矩形完全在圆内的概率？"
   ]
  },
  {
   "cell_type": "code",
   "execution_count": 97,
   "metadata": {},
   "outputs": [],
   "source": [
    "import numpy as np\n",
    "import matplotlib.pyplot as plt\n",
    "points = np.random.rand(100000,2)\n",
    "points = 2.*points - 1"
   ]
  },
  {
   "cell_type": "code",
   "execution_count": 98,
   "metadata": {},
   "outputs": [],
   "source": [
    "def to_r(x,y):\n",
    "    return (x**2 + y**2) ** 0.5"
   ]
  },
  {
   "cell_type": "code",
   "execution_count": 99,
   "metadata": {},
   "outputs": [],
   "source": [
    "def check(x1, y1, x2, y2):\n",
    "    return check_circle(x1, y2) <= 1 and check_circle(x2, y1) <= 1"
   ]
  },
  {
   "cell_type": "code",
   "execution_count": 100,
   "metadata": {},
   "outputs": [
    {
     "data": {
      "image/png": "[encoded data removed]",
      "text/plain": [
       "<Figure size 432x288 with 1 Axes>"
      ]
     },
     "metadata": {
      "needs_background": "light"
     },
     "output_type": "display_data"
    }
   ],
   "source": [
    "plt.scatter(points[:,0], points[:,1])\n",
    "plt.show()"
   ]
  },
  {
   "cell_type": "code",
   "execution_count": 101,
   "metadata": {},
   "outputs": [],
   "source": [
    "in_circle = [to_r(x, y) < 1 for x, y in points]\n",
    "len(points[in_circle,:])\n",
    "points = points[in_circle,:]\n",
    "# Select points which are in the circle out"
   ]
  },
  {
   "cell_type": "code",
   "execution_count": 102,
   "metadata": {},
   "outputs": [
    {
     "data": {
      "image/png": "[encoded data removed]",
      "text/plain": [
       "<Figure size 432x288 with 1 Axes>"
      ]
     },
     "metadata": {
      "needs_background": "light"
     },
     "output_type": "display_data"
    }
   ],
   "source": [
    "plt.scatter(points[:,0], points[:,1])\n",
    "plt.show()"
   ]
  },
  {
   "cell_type": "code",
   "execution_count": 103,
   "metadata": {},
   "outputs": [],
   "source": [
    "if len(points) % 2 == 1:\n",
    "    points = points[:-1,:]\n",
    "# Aim to get points with even total number, get prepared for the reshape function to get 2 points"
   ]
  },
  {
   "cell_type": "code",
   "execution_count": 104,
   "metadata": {},
   "outputs": [
    {
     "data": {
      "text/plain": [
       "array([[-0.85576792,  0.4914447 , -0.35276369,  0.18925452],\n",
       "       [ 0.38320121, -0.38765097, -0.27751357, -0.88999482],\n",
       "       [ 0.80192026, -0.39502415, -0.29949768, -0.61933789],\n",
       "       ...,\n",
       "       [ 0.21447364, -0.93275583, -0.58877237, -0.21261931],\n",
       "       [ 0.09347577,  0.18033564, -0.19732973,  0.56885882],\n",
       "       [ 0.36723227,  0.49103684,  0.4912785 , -0.41945356]])"
      ]
     },
     "execution_count": 104,
     "metadata": {},
     "output_type": "execute_result"
    }
   ],
   "source": [
    "two_points = points.reshape(len(points)//2,4)\n",
    "two_points"
   ]
  },
  {
   "cell_type": "code",
   "execution_count": 105,
   "metadata": {},
   "outputs": [
    {
     "data": {
      "text/plain": [
       "0.812433202707517"
      ]
     },
     "execution_count": 105,
     "metadata": {},
     "output_type": "execute_result"
    }
   ],
   "source": [
    "ans = sum([check(x1, y1, x2, y2) for x1, y1, x2, y2 in two_points])/ len(two_points)\n",
    "ans"
   ]
  }
 ],
 "metadata": {
  "kernelspec": {
   "display_name": "Python 3",
   "language": "python",
   "name": "python3"
  },
  "language_info": {
   "codemirror_mode": {
    "name": "ipython",
    "version": 3
   },
   "file_extension": ".py",
   "mimetype": "text/x-python",
   "name": "python",
   "nbconvert_exporter": "python",
   "pygments_lexer": "ipython3",
   "version": "3.7.4"
  }
 },
 "nbformat": 4,
 "nbformat_minor": 2
}
