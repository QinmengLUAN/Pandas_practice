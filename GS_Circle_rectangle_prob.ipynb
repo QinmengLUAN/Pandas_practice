{
 "cells": [
  {
   "cell_type": "code",
   "execution_count": 106,
   "metadata": {},
   "outputs": [],
   "source": [
    "# 在xy坐标系中画一个圆，圆内随机分布两点，两点连线当作一个矩形的对角线，该矩形的各边平行于x轴和y轴，求该矩形完全在圆内的概率？"
   ]
  },
  {
   "cell_type": "code",
   "execution_count": 107,
   "metadata": {},
   "outputs": [],
   "source": [
    "import numpy as np\n",
    "import matplotlib.pyplot as plt\n",
    "points = np.random.rand(100000,2)\n",
    "points = 2.*points - 1"
   ]
  },
  {
   "cell_type": "code",
   "execution_count": 108,
   "metadata": {},
   "outputs": [],
   "source": [
    "def to_r(x,y):\n",
    "    return (x**2 + y**2) ** 0.5"
   ]
  },
  {
   "cell_type": "code",
   "execution_count": 109,
   "metadata": {},
   "outputs": [],
   "source": [
    "def check(x1, y1, x2, y2):\n",
    "    return to_r(x1, y2) <= 1 and to_r(x2, y1) <= 1"
   ]
  },
  {
   "cell_type": "code",
   "execution_count": 110,
   "metadata": {},
   "outputs": [
    {
     "data": {
      "image/png": "[encoded data removed]",
      "text/plain": [
       "<Figure size 432x288 with 1 Axes>"
      ]
     },
     "metadata": {
      "needs_background": "light"
     },
     "output_type": "display_data"
    }
   ],
   "source": [
    "plt.scatter(points[:,0], points[:,1])\n",
    "plt.show()"
   ]
  },
  {
   "cell_type": "code",
   "execution_count": 111,
   "metadata": {},
   "outputs": [],
   "source": [
    "in_circle = [to_r(x, y) < 1 for x, y in points]\n",
    "len(points[in_circle,:])\n",
    "points = points[in_circle,:]\n",
    "# Select points which are in the circle out"
   ]
  },
  {
   "cell_type": "code",
   "execution_count": 112,
   "metadata": {},
   "outputs": [
    {
     "data": {
      "image/png": "[encoded data removed]",
      "text/plain": [
       "<Figure size 432x288 with 1 Axes>"
      ]
     },
     "metadata": {
      "needs_background": "light"
     },
     "output_type": "display_data"
    }
   ],
   "source": [
    "plt.scatter(points[:,0], points[:,1])\n",
    "plt.show()"
   ]
  },
  {
   "cell_type": "code",
   "execution_count": 113,
   "metadata": {},
   "outputs": [],
   "source": [
    "if len(points) % 2 == 1:\n",
    "    points = points[:-1,:]\n",
    "# Aim to get points with even total number, get prepared for the reshape function to get 2 points"
   ]
  },
  {
   "cell_type": "code",
   "execution_count": 114,
   "metadata": {},
   "outputs": [
    {
     "data": {
      "text/plain": [
       "array([[-0.854361  ,  0.41764217,  0.15495085,  0.97416967],\n",
       "       [ 0.87214879, -0.02093571, -0.03898325,  0.08669017],\n",
       "       [ 0.14311313,  0.5653536 , -0.51999133, -0.0255671 ],\n",
       "       ...,\n",
       "       [-0.17838709,  0.56842535, -0.04043975, -0.62721449],\n",
       "       [ 0.84958129, -0.38660622,  0.81935222,  0.45156459],\n",
       "       [ 0.2961903 ,  0.55549421,  0.53906666,  0.36740615]])"
      ]
     },
     "execution_count": 114,
     "metadata": {},
     "output_type": "execute_result"
    }
   ],
   "source": [
    "two_points = points.reshape(len(points)//2,4)\n",
    "two_points"
   ]
  },
  {
   "cell_type": "code",
   "execution_count": 115,
   "metadata": {},
   "outputs": [
    {
     "data": {
      "text/plain": [
       "0.8099032586558045"
      ]
     },
     "execution_count": 115,
     "metadata": {},
     "output_type": "execute_result"
    }
   ],
   "source": [
    "ans = sum([check(x1, y1, x2, y2) for x1, y1, x2, y2 in two_points])/ len(two_points)\n",
    "ans"
   ]
  }
 ],
 "metadata": {
  "kernelspec": {
   "display_name": "Python 3",
   "language": "python",
   "name": "python3"
  },
  "language_info": {
   "codemirror_mode": {
    "name": "ipython",
    "version": 3
   },
   "file_extension": ".py",
   "mimetype": "text/x-python",
   "name": "python",
   "nbconvert_exporter": "python",
   "pygments_lexer": "ipython3",
   "version": "3.7.4"
  }
 },
 "nbformat": 4,
 "nbformat_minor": 2
}
