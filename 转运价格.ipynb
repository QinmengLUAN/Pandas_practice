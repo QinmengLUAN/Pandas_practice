{
  "nbformat": 4,
  "nbformat_minor": 0,
  "metadata": {
    "colab": {
      "name": "转运价格.ipynb",
      "provenance": [],
      "authorship_tag": "ABX9TyMHQX3oUZnGum4KBhguPmyG",
      "include_colab_link": true
    },
    "kernelspec": {
      "name": "python3",
      "display_name": "Python 3"
    }
  },
  "cells": [
    {
      "cell_type": "markdown",
      "metadata": {
        "id": "view-in-github",
        "colab_type": "text"
      },
      "source": [
        "<a href=\"https://colab.research.google.com/github/QinmengLUAN/Projects_and_Pandas/blob/master/%E8%BD%AC%E8%BF%90%E4%BB%B7%E6%A0%BC.ipynb\" target=\"_parent\"><img src=\"https://colab.research.google.com/assets/colab-badge.svg\" alt=\"Open In Colab\"/></a>"
      ]
    },
    {
      "cell_type": "markdown",
      "metadata": {
        "id": "LUCBQVz-R-pZ"
      },
      "source": [
        "# 转运价格计算与比较\n",
        "\n",
        "\n",
        "> by Moe 12/03/2021\n",
        "\n",
        "\n",
        "*   该code可快速计算各公司价格，以晨曦国际快递转运举例\n",
        "*   晨曦国际快递转运的性价比提升，在4.5kg后就变得十分微弱，即：货物达到4.5kg即可考虑转运。\n",
        "\n"
      ]
    },
    {
      "cell_type": "code",
      "metadata": {
        "id": "td6KqNwq--Qo"
      },
      "source": [
        "import math\n",
        "def cost(weight, ini_weight, ini_price, later_price):\n",
        "  '''\n",
        "  weight: 货物重量 (kg)\n",
        "  ini_weight: 各个公司首重 （kg）\n",
        "  ini_price： 首重单价（rmb/0.5kg）\n",
        "  later_price: 后续单价（rmb/0.5kg）\n",
        "  outputs:\n",
        "  total: 总价（rmb）\n",
        "  性价比：total/weights（rmb/kg）\n",
        "  '''\n",
        "  total, rate = 0, 0\n",
        "  # 如果重量轻于首重\n",
        "  if weight <= ini_weight:\n",
        "    total, rate = ini_price, ini_price/weight\n",
        "    return total, rate\n",
        "\n",
        "  # 如果重量大于首重\n",
        "  total += ini_price\n",
        "  total += math.ceil((weight - ini_weight) * 2) * later_price\n",
        "\n",
        "  rate = total / weight\n",
        "  return total, rate"
      ],
      "execution_count": 89,
      "outputs": []
    },
    {
      "cell_type": "code",
      "metadata": {
        "colab": {
          "base_uri": "https://localhost:8080/"
        },
        "id": "JsxzDMI--Wcz",
        "outputId": "5cdb3a2b-b517-4a18-a5be-6e1aa231036d"
      },
      "source": [
        "# A文龙-晨曦国际快递转运\n",
        "# EMS 首单0.5kg - 128 rmb; 后续 0.5kg - 38 rmb\n",
        "\n",
        "####################\n",
        "# 输入下单信息\n",
        "weight = 10 #货物重量kg\n",
        "ini_weight = 0.5\n",
        "ini_price = 128\n",
        "later_price = 38\n",
        "####################\n",
        "\n",
        "total, rate = cost(weight, ini_weight, ini_price, later_price)\n",
        "print(\"订单重\", weight, \"kg 时:\")\n",
        "print(\"你需要支付：\", total, \"rmb\")\n",
        "print(\"此单性价比伟：\", rate, \"rmb/kg\")"
      ],
      "execution_count": 94,
      "outputs": [
        {
          "output_type": "stream",
          "text": [
            "订单重 10 kg 时:\n",
            "你需要支付： 850 rmb\n",
            "此单性价比伟： 85.0 rmb/kg\n"
          ],
          "name": "stdout"
        }
      ]
    },
    {
      "cell_type": "code",
      "metadata": {
        "colab": {
          "base_uri": "https://localhost:8080/",
          "height": 421
        },
        "id": "45udxnoFCD8L",
        "outputId": "dfc4cba4-08e4-4b20-ef83-6d8e826f0aec"
      },
      "source": [
        "# 查看各个重量下的价格和性价比\n",
        "####################\n",
        "# 输入公司报价信息\n",
        "ini_weight = 0.5\n",
        "ini_price = 128\n",
        "later_price = 38\n",
        "####################\n",
        "import numpy as np\n",
        "weights = np.arange(0.5, 40, 0.5) # Change the range you wish to check here\n",
        "totals, rates = [], []\n",
        "\n",
        "for weight in weights:\n",
        "  total, rate = cost(weight, ini_weight, ini_price, later_price)\n",
        "  totals.append(total)\n",
        "  rates.append(rate)\n",
        "\n",
        "# Plot the total price and rates to compare\n",
        "import matplotlib.pyplot as plt\n",
        "fig, (ax1, ax2) = plt.subplots(1, 2, figsize = (12,6))\n",
        "\n",
        "ax1.plot(weights, totals, label='total cost (rmb)')\n",
        "ax1.set_title('total cost (rmb)')\n",
        "ax1.grid(True)\n",
        "\n",
        "ax2.plot(weights, rates, label='raes (rmb/kg)')\n",
        "ax2.set_title('rates (rmb/kg)')\n",
        "plt.xlim([0,32])\n",
        "plt.xlabel('weight (kg)')"
      ],
      "execution_count": 91,
      "outputs": [
        {
          "output_type": "execute_result",
          "data": {
            "text/plain": [
              "Text(0.5, 0, 'weight (kg)')"
            ]
          },
          "metadata": {
            "tags": []
          },
          "execution_count": 91
        },
        {
          "output_type": "display_data",
          "data": {
            "image/png": "[encoded data removed]",
            "text/plain": [
              "<Figure size 864x432 with 2 Axes>"
            ]
          },
          "metadata": {
            "tags": [],
            "needs_background": "light"
          }
        }
      ]
    },
    {
      "cell_type": "markdown",
      "metadata": {
        "id": "WANfS-xaSrxf"
      },
      "source": [
        "## Calculate Elbow point"
      ]
    },
    {
      "cell_type": "code",
      "metadata": {
        "colab": {
          "base_uri": "https://localhost:8080/",
          "height": 313
        },
        "id": "HfCxd-l0FR-t",
        "outputId": "36783401-9192-45fa-abd8-8b4a3f4623b1"
      },
      "source": [
        "# !pip install --upgrade kneed\n",
        "from kneed import KneeLocator\n",
        "x, y = weights, rates\n",
        "kn = KneeLocator(x, y, curve='convex', direction='decreasing')\n",
        "print(kn.knee)\n",
        "\n",
        "import matplotlib.pyplot as plt\n",
        "plt.xlabel('weights')\n",
        "plt.ylabel('rates')\n",
        "plt.plot(x, y, 'bx-')\n",
        "plt.vlines(kn.knee, plt.ylim()[0], plt.ylim()[1], linestyles='dashed')"
      ],
      "execution_count": 92,
      "outputs": [
        {
          "output_type": "stream",
          "text": [
            "4.5\n"
          ],
          "name": "stdout"
        },
        {
          "output_type": "execute_result",
          "data": {
            "text/plain": [
              "<matplotlib.collections.LineCollection at 0x7ffa0be537d0>"
            ]
          },
          "metadata": {
            "tags": []
          },
          "execution_count": 92
        },
        {
          "output_type": "display_data",
          "data": {
            "image/png": "[encoded data removed]",
            "text/plain": [
              "<Figure size 432x288 with 1 Axes>"
            ]
          },
          "metadata": {
            "tags": [],
            "needs_background": "light"
          }
        }
      ]
    },
    {
      "cell_type": "markdown",
      "metadata": {
        "id": "HOMw1IkVS9WB"
      },
      "source": [
        "Elbow point = 4.5 kg\n",
        "> i.e. Adding more weights will not cause a obvious drop of the 性价比。\n",
        "\n"
      ]
    }
  ]
}